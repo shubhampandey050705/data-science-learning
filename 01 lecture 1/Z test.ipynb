{
 "cells": [
  {
   "cell_type": "code",
   "execution_count": 2,
   "id": "4844ca84",
   "metadata": {},
   "outputs": [],
   "source": [
    "import scipy.stats as st\n",
    "import numpy as np"
   ]
  },
  {
   "cell_type": "code",
   "execution_count": 7,
   "id": "0b4c8da1",
   "metadata": {},
   "outputs": [],
   "source": [
    "sample_mean=90\n",
    "population_std=20\n",
    "population_mean=82\n",
    "sample_size=81\n",
    "alpha=0.05"
   ]
  },
  {
   "cell_type": "code",
   "execution_count": 8,
   "id": "8e04add5",
   "metadata": {},
   "outputs": [
    {
     "data": {
      "text/plain": [
       "3.5999999999999996"
      ]
     },
     "execution_count": 8,
     "metadata": {},
     "output_type": "execute_result"
    }
   ],
   "source": [
    "Z_cal=(sample_mean - population_mean) / (population_std / np.sqrt(sample_size))\n",
    "Z_cal"
   ]
  },
  {
   "cell_type": "code",
   "execution_count": 10,
   "id": "dc1add07",
   "metadata": {},
   "outputs": [
    {
     "data": {
      "text/plain": [
       "1.6448536269514722"
      ]
     },
     "execution_count": 10,
     "metadata": {},
     "output_type": "execute_result"
    }
   ],
   "source": [
    "Z_table=st.norm.ppf(1-alpha)\n",
    "Z_table"
   ]
  },
  {
   "cell_type": "code",
   "execution_count": 13,
   "id": "c457c692",
   "metadata": {},
   "outputs": [
    {
     "name": "stdout",
     "output_type": "stream",
     "text": [
      "Reject the null hypothesis. h1 is right\n"
     ]
    }
   ],
   "source": [
    "if Z_cal > Z_table:\n",
    "    print(\"Reject the null hypothesis. h1 is right\") \n",
    "else:   \n",
    "    print(\"Fail to reject the null hypothesis. h0 is right\")"
   ]
  },
  {
   "cell_type": "code",
   "execution_count": null,
   "id": "c1bdd791",
   "metadata": {},
   "outputs": [],
   "source": []
  }
 ],
 "metadata": {
  "kernelspec": {
   "display_name": "Python 3",
   "language": "python",
   "name": "python3"
  },
  "language_info": {
   "codemirror_mode": {
    "name": "ipython",
    "version": 3
   },
   "file_extension": ".py",
   "mimetype": "text/x-python",
   "name": "python",
   "nbconvert_exporter": "python",
   "pygments_lexer": "ipython3",
   "version": "3.12.3"
  }
 },
 "nbformat": 4,
 "nbformat_minor": 5
}
