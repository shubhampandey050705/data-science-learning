{
 "cells": [
  {
   "cell_type": "code",
   "execution_count": 11,
   "id": "44e90de1",
   "metadata": {},
   "outputs": [],
   "source": [
    "import pandas as pd\n",
    "import numpy as np\n",
    "import seaborn as sns\n",
    "import matplotlib.pyplot as plt\n",
    "from sklearn.impute import SimpleImputer\n"
   ]
  },
  {
   "cell_type": "code",
   "execution_count": 4,
   "id": "422358fc",
   "metadata": {},
   "outputs": [
    {
     "data": {
      "application/vnd.microsoft.datawrangler.viewer.v0+json": {
       "columns": [
        {
         "name": "index",
         "rawType": "int64",
         "type": "integer"
        },
        {
         "name": "Loan_ID",
         "rawType": "object",
         "type": "string"
        },
        {
         "name": "Gender",
         "rawType": "object",
         "type": "string"
        },
        {
         "name": "Married",
         "rawType": "object",
         "type": "string"
        },
        {
         "name": "Dependents",
         "rawType": "object",
         "type": "string"
        },
        {
         "name": "Education",
         "rawType": "object",
         "type": "string"
        },
        {
         "name": "Self_Employed",
         "rawType": "object",
         "type": "string"
        },
        {
         "name": "ApplicantIncome",
         "rawType": "int64",
         "type": "integer"
        },
        {
         "name": "CoapplicantIncome",
         "rawType": "float64",
         "type": "float"
        },
        {
         "name": "LoanAmount",
         "rawType": "float64",
         "type": "float"
        },
        {
         "name": "Loan_Amount_Term",
         "rawType": "float64",
         "type": "float"
        },
        {
         "name": "Credit_History",
         "rawType": "float64",
         "type": "float"
        },
        {
         "name": "Property_Area",
         "rawType": "object",
         "type": "string"
        },
        {
         "name": "Loan_Status",
         "rawType": "object",
         "type": "string"
        }
       ],
       "ref": "d0d653a8-b87e-40d3-84e6-0905018b0744",
       "rows": [
        [
         "0",
         "LP001002",
         "Male",
         "No",
         "0",
         "Graduate",
         "No",
         "5849",
         "0.0",
         null,
         "360.0",
         "1.0",
         "Urban",
         "Y"
        ],
        [
         "1",
         "LP001003",
         "Male",
         "Yes",
         "1",
         "Graduate",
         "No",
         "4583",
         "1508.0",
         "128.0",
         "360.0",
         "1.0",
         "Rural",
         "N"
        ],
        [
         "2",
         "LP001005",
         "Male",
         "Yes",
         "0",
         "Graduate",
         "Yes",
         "3000",
         "0.0",
         "66.0",
         "360.0",
         "1.0",
         "Urban",
         "Y"
        ]
       ],
       "shape": {
        "columns": 13,
        "rows": 3
       }
      },
      "text/html": [
       "<div>\n",
       "<style scoped>\n",
       "    .dataframe tbody tr th:only-of-type {\n",
       "        vertical-align: middle;\n",
       "    }\n",
       "\n",
       "    .dataframe tbody tr th {\n",
       "        vertical-align: top;\n",
       "    }\n",
       "\n",
       "    .dataframe thead th {\n",
       "        text-align: right;\n",
       "    }\n",
       "</style>\n",
       "<table border=\"1\" class=\"dataframe\">\n",
       "  <thead>\n",
       "    <tr style=\"text-align: right;\">\n",
       "      <th></th>\n",
       "      <th>Loan_ID</th>\n",
       "      <th>Gender</th>\n",
       "      <th>Married</th>\n",
       "      <th>Dependents</th>\n",
       "      <th>Education</th>\n",
       "      <th>Self_Employed</th>\n",
       "      <th>ApplicantIncome</th>\n",
       "      <th>CoapplicantIncome</th>\n",
       "      <th>LoanAmount</th>\n",
       "      <th>Loan_Amount_Term</th>\n",
       "      <th>Credit_History</th>\n",
       "      <th>Property_Area</th>\n",
       "      <th>Loan_Status</th>\n",
       "    </tr>\n",
       "  </thead>\n",
       "  <tbody>\n",
       "    <tr>\n",
       "      <th>0</th>\n",
       "      <td>LP001002</td>\n",
       "      <td>Male</td>\n",
       "      <td>No</td>\n",
       "      <td>0</td>\n",
       "      <td>Graduate</td>\n",
       "      <td>No</td>\n",
       "      <td>5849</td>\n",
       "      <td>0.0</td>\n",
       "      <td>NaN</td>\n",
       "      <td>360.0</td>\n",
       "      <td>1.0</td>\n",
       "      <td>Urban</td>\n",
       "      <td>Y</td>\n",
       "    </tr>\n",
       "    <tr>\n",
       "      <th>1</th>\n",
       "      <td>LP001003</td>\n",
       "      <td>Male</td>\n",
       "      <td>Yes</td>\n",
       "      <td>1</td>\n",
       "      <td>Graduate</td>\n",
       "      <td>No</td>\n",
       "      <td>4583</td>\n",
       "      <td>1508.0</td>\n",
       "      <td>128.0</td>\n",
       "      <td>360.0</td>\n",
       "      <td>1.0</td>\n",
       "      <td>Rural</td>\n",
       "      <td>N</td>\n",
       "    </tr>\n",
       "    <tr>\n",
       "      <th>2</th>\n",
       "      <td>LP001005</td>\n",
       "      <td>Male</td>\n",
       "      <td>Yes</td>\n",
       "      <td>0</td>\n",
       "      <td>Graduate</td>\n",
       "      <td>Yes</td>\n",
       "      <td>3000</td>\n",
       "      <td>0.0</td>\n",
       "      <td>66.0</td>\n",
       "      <td>360.0</td>\n",
       "      <td>1.0</td>\n",
       "      <td>Urban</td>\n",
       "      <td>Y</td>\n",
       "    </tr>\n",
       "  </tbody>\n",
       "</table>\n",
       "</div>"
      ],
      "text/plain": [
       "    Loan_ID Gender Married Dependents Education Self_Employed  \\\n",
       "0  LP001002   Male      No          0  Graduate            No   \n",
       "1  LP001003   Male     Yes          1  Graduate            No   \n",
       "2  LP001005   Male     Yes          0  Graduate           Yes   \n",
       "\n",
       "   ApplicantIncome  CoapplicantIncome  LoanAmount  Loan_Amount_Term  \\\n",
       "0             5849                0.0         NaN             360.0   \n",
       "1             4583             1508.0       128.0             360.0   \n",
       "2             3000                0.0        66.0             360.0   \n",
       "\n",
       "   Credit_History Property_Area Loan_Status  \n",
       "0             1.0         Urban           Y  \n",
       "1             1.0         Rural           N  \n",
       "2             1.0         Urban           Y  "
      ]
     },
     "execution_count": 4,
     "metadata": {},
     "output_type": "execute_result"
    }
   ],
   "source": [
    "dataset=pd.read_csv(r\"C:\\Users\\Shubham Pandey\\Downloads\\loan.csv\")\n",
    "dataset.head(3)"
   ]
  },
  {
   "cell_type": "code",
   "execution_count": 12,
   "id": "dd226e5b",
   "metadata": {},
   "outputs": [
    {
     "data": {
      "text/plain": [
       "Index(['CoapplicantIncome', 'LoanAmount', 'Loan_Amount_Term',\n",
       "       'Credit_History'],\n",
       "      dtype='object')"
      ]
     },
     "execution_count": 12,
     "metadata": {},
     "output_type": "execute_result"
    }
   ],
   "source": [
    "dataset.select_dtypes(include=\"float64\").columns"
   ]
  },
  {
   "cell_type": "code",
   "execution_count": 18,
   "id": "46e0e1b9",
   "metadata": {},
   "outputs": [
    {
     "data": {
      "text/plain": [
       "array([[0.00000000e+00, 1.46412162e+02, 3.60000000e+02, 1.00000000e+00],\n",
       "       [1.50800000e+03, 1.28000000e+02, 3.60000000e+02, 1.00000000e+00],\n",
       "       [0.00000000e+00, 6.60000000e+01, 3.60000000e+02, 1.00000000e+00],\n",
       "       ...,\n",
       "       [2.40000000e+02, 2.53000000e+02, 3.60000000e+02, 1.00000000e+00],\n",
       "       [0.00000000e+00, 1.87000000e+02, 3.60000000e+02, 1.00000000e+00],\n",
       "       [0.00000000e+00, 1.33000000e+02, 3.60000000e+02, 0.00000000e+00]])"
      ]
     },
     "execution_count": 18,
     "metadata": {},
     "output_type": "execute_result"
    }
   ],
   "source": [
    "si= SimpleImputer(strategy=\"mean\")\n",
    "arr=si.fit_transform(dataset[['CoapplicantIncome', 'LoanAmount', 'Loan_Amount_Term',\n",
    "       'Credit_History']])\n",
    "\n",
    "arr"
   ]
  },
  {
   "cell_type": "code",
   "execution_count": 21,
   "id": "cd5b3244",
   "metadata": {},
   "outputs": [
    {
     "data": {
      "application/vnd.microsoft.datawrangler.viewer.v0+json": {
       "columns": [
        {
         "name": "index",
         "rawType": "int64",
         "type": "integer"
        },
        {
         "name": "CoapplicantIncome",
         "rawType": "float64",
         "type": "float"
        },
        {
         "name": "LoanAmount",
         "rawType": "float64",
         "type": "float"
        },
        {
         "name": "Loan_Amount_Term",
         "rawType": "float64",
         "type": "float"
        },
        {
         "name": "Credit_History",
         "rawType": "float64",
         "type": "float"
        }
       ],
       "ref": "2ed80944-78b5-4aa7-b33b-9c82b25392a9",
       "rows": [
        [
         "0",
         "0.0",
         "146.41216216216216",
         "360.0",
         "1.0"
        ],
        [
         "1",
         "1508.0",
         "128.0",
         "360.0",
         "1.0"
        ],
        [
         "2",
         "0.0",
         "66.0",
         "360.0",
         "1.0"
        ],
        [
         "3",
         "2358.0",
         "120.0",
         "360.0",
         "1.0"
        ],
        [
         "4",
         "0.0",
         "141.0",
         "360.0",
         "1.0"
        ],
        [
         "5",
         "4196.0",
         "267.0",
         "360.0",
         "1.0"
        ],
        [
         "6",
         "1516.0",
         "95.0",
         "360.0",
         "1.0"
        ],
        [
         "7",
         "2504.0",
         "158.0",
         "360.0",
         "0.0"
        ],
        [
         "8",
         "1526.0",
         "168.0",
         "360.0",
         "1.0"
        ],
        [
         "9",
         "10968.0",
         "349.0",
         "360.0",
         "1.0"
        ],
        [
         "10",
         "700.0",
         "70.0",
         "360.0",
         "1.0"
        ],
        [
         "11",
         "1840.0",
         "109.0",
         "360.0",
         "1.0"
        ],
        [
         "12",
         "8106.0",
         "200.0",
         "360.0",
         "1.0"
        ],
        [
         "13",
         "2840.0",
         "114.0",
         "360.0",
         "1.0"
        ],
        [
         "14",
         "1086.0",
         "17.0",
         "120.0",
         "1.0"
        ],
        [
         "15",
         "0.0",
         "125.0",
         "360.0",
         "1.0"
        ],
        [
         "16",
         "0.0",
         "100.0",
         "240.0",
         "0.8421985815602837"
        ],
        [
         "17",
         "0.0",
         "76.0",
         "360.0",
         "0.0"
        ],
        [
         "18",
         "0.0",
         "133.0",
         "360.0",
         "1.0"
        ],
        [
         "19",
         "3500.0",
         "115.0",
         "342.0",
         "1.0"
        ],
        [
         "20",
         "0.0",
         "104.0",
         "360.0",
         "0.0"
        ],
        [
         "21",
         "5625.0",
         "315.0",
         "360.0",
         "1.0"
        ],
        [
         "22",
         "1911.0",
         "116.0",
         "360.0",
         "0.0"
        ],
        [
         "23",
         "1917.0",
         "112.0",
         "360.0",
         "0.0"
        ],
        [
         "24",
         "2925.0",
         "151.0",
         "360.0",
         "0.8421985815602837"
        ],
        [
         "25",
         "0.0",
         "191.0",
         "360.0",
         "1.0"
        ],
        [
         "26",
         "2253.0",
         "122.0",
         "360.0",
         "1.0"
        ],
        [
         "27",
         "1040.0",
         "110.0",
         "360.0",
         "1.0"
        ],
        [
         "28",
         "0.0",
         "35.0",
         "360.0",
         "1.0"
        ],
        [
         "29",
         "2083.0",
         "120.0",
         "360.0",
         "1.0"
        ],
        [
         "30",
         "3369.0",
         "201.0",
         "360.0",
         "0.8421985815602837"
        ],
        [
         "31",
         "0.0",
         "74.0",
         "360.0",
         "1.0"
        ],
        [
         "32",
         "0.0",
         "106.0",
         "360.0",
         "1.0"
        ],
        [
         "33",
         "1667.0",
         "114.0",
         "360.0",
         "1.0"
        ],
        [
         "34",
         "3000.0",
         "320.0",
         "360.0",
         "1.0"
        ],
        [
         "35",
         "2067.0",
         "146.41216216216216",
         "360.0",
         "1.0"
        ],
        [
         "36",
         "1330.0",
         "100.0",
         "342.0",
         "0.0"
        ],
        [
         "37",
         "1459.0",
         "144.0",
         "360.0",
         "1.0"
        ],
        [
         "38",
         "7210.0",
         "184.0",
         "360.0",
         "1.0"
        ],
        [
         "39",
         "1668.0",
         "110.0",
         "360.0",
         "1.0"
        ],
        [
         "40",
         "0.0",
         "80.0",
         "360.0",
         "1.0"
        ],
        [
         "41",
         "1213.0",
         "47.0",
         "360.0",
         "1.0"
        ],
        [
         "42",
         "0.0",
         "75.0",
         "360.0",
         "0.8421985815602837"
        ],
        [
         "43",
         "2336.0",
         "134.0",
         "360.0",
         "1.0"
        ],
        [
         "44",
         "0.0",
         "96.0",
         "342.0",
         "1.0"
        ],
        [
         "45",
         "0.0",
         "88.0",
         "342.0",
         "1.0"
        ],
        [
         "46",
         "0.0",
         "44.0",
         "360.0",
         "1.0"
        ],
        [
         "47",
         "0.0",
         "144.0",
         "360.0",
         "1.0"
        ],
        [
         "48",
         "3440.0",
         "120.0",
         "360.0",
         "0.0"
        ],
        [
         "49",
         "2275.0",
         "144.0",
         "360.0",
         "1.0"
        ]
       ],
       "shape": {
        "columns": 4,
        "rows": 614
       }
      },
      "text/html": [
       "<div>\n",
       "<style scoped>\n",
       "    .dataframe tbody tr th:only-of-type {\n",
       "        vertical-align: middle;\n",
       "    }\n",
       "\n",
       "    .dataframe tbody tr th {\n",
       "        vertical-align: top;\n",
       "    }\n",
       "\n",
       "    .dataframe thead th {\n",
       "        text-align: right;\n",
       "    }\n",
       "</style>\n",
       "<table border=\"1\" class=\"dataframe\">\n",
       "  <thead>\n",
       "    <tr style=\"text-align: right;\">\n",
       "      <th></th>\n",
       "      <th>CoapplicantIncome</th>\n",
       "      <th>LoanAmount</th>\n",
       "      <th>Loan_Amount_Term</th>\n",
       "      <th>Credit_History</th>\n",
       "    </tr>\n",
       "  </thead>\n",
       "  <tbody>\n",
       "    <tr>\n",
       "      <th>0</th>\n",
       "      <td>0.0</td>\n",
       "      <td>146.412162</td>\n",
       "      <td>360.0</td>\n",
       "      <td>1.0</td>\n",
       "    </tr>\n",
       "    <tr>\n",
       "      <th>1</th>\n",
       "      <td>1508.0</td>\n",
       "      <td>128.000000</td>\n",
       "      <td>360.0</td>\n",
       "      <td>1.0</td>\n",
       "    </tr>\n",
       "    <tr>\n",
       "      <th>2</th>\n",
       "      <td>0.0</td>\n",
       "      <td>66.000000</td>\n",
       "      <td>360.0</td>\n",
       "      <td>1.0</td>\n",
       "    </tr>\n",
       "    <tr>\n",
       "      <th>3</th>\n",
       "      <td>2358.0</td>\n",
       "      <td>120.000000</td>\n",
       "      <td>360.0</td>\n",
       "      <td>1.0</td>\n",
       "    </tr>\n",
       "    <tr>\n",
       "      <th>4</th>\n",
       "      <td>0.0</td>\n",
       "      <td>141.000000</td>\n",
       "      <td>360.0</td>\n",
       "      <td>1.0</td>\n",
       "    </tr>\n",
       "    <tr>\n",
       "      <th>...</th>\n",
       "      <td>...</td>\n",
       "      <td>...</td>\n",
       "      <td>...</td>\n",
       "      <td>...</td>\n",
       "    </tr>\n",
       "    <tr>\n",
       "      <th>609</th>\n",
       "      <td>0.0</td>\n",
       "      <td>71.000000</td>\n",
       "      <td>360.0</td>\n",
       "      <td>1.0</td>\n",
       "    </tr>\n",
       "    <tr>\n",
       "      <th>610</th>\n",
       "      <td>0.0</td>\n",
       "      <td>40.000000</td>\n",
       "      <td>180.0</td>\n",
       "      <td>1.0</td>\n",
       "    </tr>\n",
       "    <tr>\n",
       "      <th>611</th>\n",
       "      <td>240.0</td>\n",
       "      <td>253.000000</td>\n",
       "      <td>360.0</td>\n",
       "      <td>1.0</td>\n",
       "    </tr>\n",
       "    <tr>\n",
       "      <th>612</th>\n",
       "      <td>0.0</td>\n",
       "      <td>187.000000</td>\n",
       "      <td>360.0</td>\n",
       "      <td>1.0</td>\n",
       "    </tr>\n",
       "    <tr>\n",
       "      <th>613</th>\n",
       "      <td>0.0</td>\n",
       "      <td>133.000000</td>\n",
       "      <td>360.0</td>\n",
       "      <td>0.0</td>\n",
       "    </tr>\n",
       "  </tbody>\n",
       "</table>\n",
       "<p>614 rows × 4 columns</p>\n",
       "</div>"
      ],
      "text/plain": [
       "     CoapplicantIncome  LoanAmount  Loan_Amount_Term  Credit_History\n",
       "0                  0.0  146.412162             360.0             1.0\n",
       "1               1508.0  128.000000             360.0             1.0\n",
       "2                  0.0   66.000000             360.0             1.0\n",
       "3               2358.0  120.000000             360.0             1.0\n",
       "4                  0.0  141.000000             360.0             1.0\n",
       "..                 ...         ...               ...             ...\n",
       "609                0.0   71.000000             360.0             1.0\n",
       "610                0.0   40.000000             180.0             1.0\n",
       "611              240.0  253.000000             360.0             1.0\n",
       "612                0.0  187.000000             360.0             1.0\n",
       "613                0.0  133.000000             360.0             0.0\n",
       "\n",
       "[614 rows x 4 columns]"
      ]
     },
     "execution_count": 21,
     "metadata": {},
     "output_type": "execute_result"
    }
   ],
   "source": [
    " \n",
    "new_dataset=pd.DataFrame(arr, columns= dataset.select_dtypes(include=\"float64\").columns) #data are filled with mean values using SimpleImputer of sklearn\n",
    "new_dataset"
   ]
  },
  {
   "cell_type": "code",
   "execution_count": null,
   "metadata": {},
   "outputs": [],
   "source": []
  },
  {
   "cell_type": "code",
   "execution_count": null,
   "metadata": {},
   "outputs": [],
   "source": []
  },
  {
   "cell_type": "markdown",
   "metadata": {},
   "source": []
  },
  {
   "cell_type": "markdown",
   "metadata": {},
   "source": []
  },
  {
   "cell_type": "code",
   "execution_count": null,
   "id": "adfabcc4",
   "metadata": {},
   "outputs": [],
   "source": []
  }
 ],
 "metadata": {
  "kernelspec": {
   "display_name": "Python 3",
   "language": "python",
   "name": "python3"
  },
  "language_info": {
   "codemirror_mode": {
    "name": "ipython",
    "version": 3
   },
   "file_extension": ".py",
   "mimetype": "text/x-python",
   "name": "python",
   "nbconvert_exporter": "python",
   "pygments_lexer": "ipython3",
   "version": "3.12.3"
  }
 },
 "nbformat": 4,
 "nbformat_minor": 5
}
